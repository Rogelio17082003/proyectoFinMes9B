{
 "cells": [
  {
   "cell_type": "code",
   "execution_count": 2,
   "id": "ae6670b9-b696-4f6d-9f28-46c53b5fc270",
   "metadata": {},
   "outputs": [
    {
     "name": "stdout",
     "output_type": "stream",
     "text": [
      "                                    Carrera Escogida  \\\n",
      "0                                 TSU EN GASTRONOMIA   \n",
      "1  TSU EN TECNOLOGIAS DE LA INFORMACION AREA DE S...   \n",
      "2  TSU EN MECANICA AUTOMOTRIZ - TSU EN MECANICA I...   \n",
      "3             TSU EN MECATRONICA Area Automatizacion   \n",
      "4                                 TSU EN GASTRONOMIA   \n",
      "\n",
      "                                   Escuela de Origen          Municipio  \\\n",
      "0                                CBTA # 5 (HUEJUTLA)  HUEJUTLA DE REYES   \n",
      "1  CENTRO DE ESTUDIOS DE BACHILLERATO MAESTRO MOI...          ATLAPEXCO   \n",
      "2  INSTITUTO TECNOLOGICO DE EDUCACION MEDIA SUPERIOR          ATLAPEXCO   \n",
      "3  BACHILLERATO DEL ESTADO DE HIDALGO (PLANTEL YA...         TLANCHINOL   \n",
      "4                                    CECYTE HUEJUTLA  HUEJUTLA DE REYES   \n",
      "\n",
      "    Estado    Sexo Estado Civil  Campo Aleatorio  Paso  \n",
      "0  YUCATAN  HOMBRE        VIUDO         0.422155     1  \n",
      "1  YUCATAN  HOMBRE      SOLTERO         0.618677     1  \n",
      "2  YUCATAN   MUJER        VIUDO         0.443813     1  \n",
      "3   MEXICO   MUJER   DIVORCIADO         0.246099     0  \n",
      "4   PUEBLA   MUJER   DIVORCIADO         0.679197     1  \n",
      "Dataset creado y guardado en 'datos_estudiantes.csv'\n"
     ]
    }
   ],
   "source": [
    "import pandas as pd\n",
    "import numpy as np\n",
    "import random\n",
    "\n",
    "# Semilla para reproducibilidad\n",
    "np.random.seed(42)\n",
    "random.seed(42)\n",
    "\n",
    "# Definir los posibles valores para las columnas\n",
    "carreras = ['TSU EN AGROBIOTECNOLOGIA', 'TSU EN EMPRENDIMIENTO, FORMULACION Y EVALUACION DE PROYECTOS', 'TSU EN PROCESOS ALIMENTARIOS', \n",
    "            'TSU EN TECNOLOGIAS DE LA INFORMACION AREA DE SOFTWARE MULTIPLATAFORMA', \n",
    "            'TSU EN MECATRONICA Area Automatizacion',\n",
    "            'TSU EN MERCADOTECNIA',\n",
    "            'TSU EN GASTRONOMIA',\n",
    "            'TSU EN MECANICA AUTOMOTRIZ - TSU EN MECANICA INDUSTRIAL',\n",
    "            'TSU EN CONSTRUCCION',\n",
    "            'TSU EN CONTADURIA'\n",
    "           ]\n",
    "escuelas = ['COBAEH HUEJUTLA', 'COBAEH ATLAPEXCO', 'CECYTE HUEJUTLA', 'BACHILLERATO DEL ESTADO DE HIDALGO (PLANTEL YAHUALICA)',\n",
    "            'CECYTE ATLAPEXCO','CBTA # 5 (HUEJUTLA)',\n",
    "            'CECYTEH PLANTEL PACHUCA',\n",
    "            'CECYTEH PLANTEL POXINDEJE',\n",
    "            'CECYTEH PLANTEL SAN FELIPE',\n",
    "            'CENTRO DE BACHILLERATO TECNOLOGICO AGROPECUARIO NO. 83',\n",
    "            'CENTRO DE ESTUDIOS DE BACHILLERATO MAESTRO MOISES SAENZ GARZA',\n",
    "            'COBAEH PLANTEL JALTOCAN',\n",
    "            'COBAEH PLANTEL MECATLAN',\n",
    "            'COBAEH PLANTEL SANTA CATARINA',\n",
    "            'COBAEH PLANTEL TEHUETLAN',\n",
    "            'COBAEH PLANTEL TIANGUISTENGO',\n",
    "            'CONALEP CIUDAD AZTECA',\n",
    "            'INSTITUTO TECNOLOGICO DE EDUCACION MEDIA SUPERIOR'\n",
    "           ]\n",
    "municipios = ['HUEJUTLA DE REYES', 'ATLAPEXCO', 'TLANCHINOL','YAHUALICA']\n",
    "estados = ['JALISCO', 'HIDALGO', 'PUEBLA', 'YUCATAN','MEXICO']\n",
    "sexos = ['HOMBRE', 'MUJER']\n",
    "estados_civiles = ['SOLTERO', 'CASADO', 'DIVORCIADO', 'VIUDO']\n",
    "\n",
    "# Generar los datos\n",
    "data = {\n",
    "    'Carrera Escogida': np.random.choice(carreras, 3000),\n",
    "    'Escuela de Origen': np.random.choice(escuelas, 3000),\n",
    "    'Municipio': np.random.choice(municipios, 3000),\n",
    "    'Estado': np.random.choice(estados, 3000),\n",
    "    'Sexo': np.random.choice(sexos, 3000),\n",
    "    'Estado Civil': np.random.choice(estados_civiles, 3000),\n",
    "    'Campo Aleatorio': np.random.rand(3000),\n",
    "    'Paso': np.random.choice([0, 1], 3000, p=[0.3, 0.7])  # 70% pasaron, 30% no pasaron\n",
    "}\n",
    "\n",
    "# Crear el DataFrame\n",
    "df = pd.DataFrame(data)\n",
    "\n",
    "# Mostrar los primeros registros\n",
    "print(df.head())\n",
    "\n",
    "# Guardar en un archivo CSV\n",
    "df.to_csv('datos_estudiantes.csv', index=False, encoding='utf-8')\n",
    "\n",
    "print(\"Dataset creado y guardado en 'datos_estudiantes.csv'\")\n"
   ]
  },
  {
   "cell_type": "code",
   "execution_count": null,
   "id": "265c97e6-b4d7-4353-a6d7-d219b104153f",
   "metadata": {},
   "outputs": [],
   "source": []
  },
  {
   "cell_type": "code",
   "execution_count": null,
   "id": "e7a3a3d5-cad6-4071-a0e5-6da35b140f9d",
   "metadata": {},
   "outputs": [],
   "source": []
  }
 ],
 "metadata": {
  "kernelspec": {
   "display_name": "Python 3 (ipykernel)",
   "language": "python",
   "name": "python3"
  },
  "language_info": {
   "codemirror_mode": {
    "name": "ipython",
    "version": 3
   },
   "file_extension": ".py",
   "mimetype": "text/x-python",
   "name": "python",
   "nbconvert_exporter": "python",
   "pygments_lexer": "ipython3",
   "version": "3.12.3"
  }
 },
 "nbformat": 4,
 "nbformat_minor": 5
}
